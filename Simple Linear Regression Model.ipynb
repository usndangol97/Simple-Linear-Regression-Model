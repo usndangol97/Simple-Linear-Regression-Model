{
 "cells": [
  {
   "cell_type": "code",
   "execution_count": 46,
   "id": "6e958b3f",
   "metadata": {},
   "outputs": [
    {
     "name": "stdout",
     "output_type": "stream",
     "text": [
      "         age     sex        bmi smoker     region  children       charges\n",
      "0  21.000000    male  25.745000     no  northeast         2   3279.868550\n",
      "1  36.976978  female  25.744165    yes  southeast         3  21454.494239\n",
      "2  18.000000    male  30.030000     no  southeast         1   1720.353700\n",
      "3  37.000000    male  30.676891     no  northeast         3   6801.437542\n",
      "4  58.000000    male  32.010000     no  southeast         1  11946.625900\n"
     ]
    }
   ],
   "source": [
    "import numpy as np\n",
    "import pandas as pd\n",
    "from sklearn.model_selection import train_test_split\n",
    "\n",
    "df_train = pd.read_csv('C:/Users/XRona/datasets/Medical Insurance/archive/Train_Data.csv')\n",
    "\n",
    "print(df_train.head())"
   ]
  },
  {
   "cell_type": "code",
   "execution_count": 38,
   "id": "2154d362",
   "metadata": {},
   "outputs": [
    {
     "data": {
      "text/plain": [
       "age          float64\n",
       "sex         category\n",
       "bmi          float64\n",
       "smoker      category\n",
       "region      category\n",
       "children       int64\n",
       "charges      float64\n",
       "dtype: object"
      ]
     },
     "execution_count": 38,
     "metadata": {},
     "output_type": "execute_result"
    }
   ],
   "source": [
    "#Converting objects labels to categories\n",
    "df_train[['sex','smoker','region']] = df_train[['sex','smoker','region']].astype('category')\n",
    "df_train.dtypes"
   ]
  },
  {
   "cell_type": "code",
   "execution_count": 40,
   "id": "603232c6",
   "metadata": {},
   "outputs": [
    {
     "data": {
      "text/plain": [
       "age         float64\n",
       "sex           int32\n",
       "bmi         float64\n",
       "smoker        int32\n",
       "region        int32\n",
       "children      int64\n",
       "charges     float64\n",
       "dtype: object"
      ]
     },
     "execution_count": 40,
     "metadata": {},
     "output_type": "execute_result"
    }
   ],
   "source": [
    "#Converting category labels into numerical using LabelEncoder\n",
    "from sklearn.preprocessing import LabelEncoder\n",
    "\n",
    "label = LabelEncoder()\n",
    "label.fit(df_train.sex.drop_duplicates())\n",
    "df_train.sex = label.transform(df_train.sex)\n",
    "\n",
    "label.fit(df_train.smoker.drop_duplicates())\n",
    "df_train.smoker = label.transform(df_train.smoker)\n",
    "\n",
    "label.fit(df_train.region.drop_duplicates())\n",
    "df_train.region = label.transform(df_train.region)\n",
    "\n",
    "df_train.dtypes"
   ]
  },
  {
   "cell_type": "code",
   "execution_count": 41,
   "id": "a4f46b15",
   "metadata": {},
   "outputs": [],
   "source": [
    "x=df_train.drop(['charges'],axis=1)\n",
    "y=df_train['charges']\n",
    "\n",
    "x_train, x_test, y_train, y_test = train_test_split(x,y,train_size=0.7,test_size=0.3)"
   ]
  },
  {
   "cell_type": "code",
   "execution_count": 42,
   "id": "fed4df3a",
   "metadata": {},
   "outputs": [
    {
     "data": {
      "text/plain": [
       "LinearRegression(normalize=True)"
      ]
     },
     "execution_count": 42,
     "metadata": {},
     "output_type": "execute_result"
    }
   ],
   "source": [
    "from sklearn.linear_model import LinearRegression\n",
    "from sklearn.metrics import r2_score\n",
    "\n",
    "model_lr = LinearRegression(normalize=True)\n",
    "model_lr.fit(x_train, y_train)"
   ]
  },
  {
   "cell_type": "code",
   "execution_count": 43,
   "id": "51a3e277",
   "metadata": {},
   "outputs": [
    {
     "name": "stdout",
     "output_type": "stream",
     "text": [
      "[ 6833.21506452 13802.71701686 14808.7450338  34694.72165465\n",
      " 11606.78298833  6597.8269554  11866.15717844 15234.65942149\n",
      "  7221.15570304 16850.68794865]\n"
     ]
    }
   ],
   "source": [
    "y_prediction = model_lr.predict(x_test)\n",
    "print(y_prediction[:10])"
   ]
  },
  {
   "cell_type": "code",
   "execution_count": 44,
   "id": "5eebc16e",
   "metadata": {},
   "outputs": [
    {
     "name": "stdout",
     "output_type": "stream",
     "text": [
      "1497    23258.997954\n",
      "2930    10787.690781\n",
      "2478    12265.885599\n",
      "2725    45863.205000\n",
      "1864    15179.205023\n",
      "1725     2322.621800\n",
      "689      6035.696445\n",
      "2178    14643.621970\n",
      "2316     5390.616089\n",
      "1673    13030.316282\n",
      "Name: charges, dtype: float64\n"
     ]
    }
   ],
   "source": [
    "print(y_test[:10])"
   ]
  },
  {
   "cell_type": "code",
   "execution_count": 53,
   "id": "02352e68",
   "metadata": {},
   "outputs": [
    {
     "name": "stdout",
     "output_type": "stream",
     "text": [
      "0.7406780708941333\n"
     ]
    }
   ],
   "source": [
    "print(r2_score(y_test,y_prediction))"
   ]
  },
  {
   "cell_type": "code",
   "execution_count": null,
   "id": "4f954fad",
   "metadata": {},
   "outputs": [],
   "source": []
  }
 ],
 "metadata": {
  "kernelspec": {
   "display_name": "Python 3 (ipykernel)",
   "language": "python",
   "name": "python3"
  },
  "language_info": {
   "codemirror_mode": {
    "name": "ipython",
    "version": 3
   },
   "file_extension": ".py",
   "mimetype": "text/x-python",
   "name": "python",
   "nbconvert_exporter": "python",
   "pygments_lexer": "ipython3",
   "version": "3.9.7"
  }
 },
 "nbformat": 4,
 "nbformat_minor": 5
}
